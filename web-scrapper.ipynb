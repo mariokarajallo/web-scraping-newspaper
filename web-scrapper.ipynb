{
 "cells": [
  {
   "attachments": {},
   "cell_type": "markdown",
   "metadata": {},
   "source": [
    "## Scrapper Automatization"
   ]
  },
  {
   "cell_type": "code",
   "execution_count": 2,
   "metadata": {},
   "outputs": [],
   "source": [
    "#import library\n",
    "import requests\n",
    "from bs4 import BeautifulSoup\n"
   ]
  },
  {
   "cell_type": "code",
   "execution_count": null,
   "metadata": {},
   "outputs": [],
   "source": [
    "def get_info(url):\n",
    "    dict={}\n",
    "    r_notice= requests.get(url)\n",
    "    s_notice= BeautifulSoup(r_notice.text, 'lxml')\n",
    "\n",
    "    #title notice\n",
    "    title=s_notice.find('h1', attrs={'class':'title'}).text\n",
    "    if title:\n",
    "        dict['title']=title\n",
    "    else:\n",
    "        dict['title']=None\n",
    "\n",
    "    #date notice\n",
    "    time=s_notice.find('time', attrs={'class':'date'}).text\n",
    "    if time:\n",
    "        dict['time']=time\n",
    "    else:\n",
    "        dict['time']=None\n",
    "\n",
    "    #lead\n",
    "    lead=s_notice.find('h2', attrs={'class':'excerpt'}).text\n",
    "    if time:\n",
    "        dict['lead']=lead\n",
    "    else:\n",
    "        dict['lead']=None\n",
    "    \n",
    "    #body\n",
    "    body=s_notice.find('div', attrs={'class':'body-content note-body'}).find_all('p')\n",
    "    for p in body:\n",
    "        b=b+''+(p.text)\n",
    "    if b:\n",
    "        dict['body']=b\n",
    "    else:\n",
    "        dict['body']=None\n",
    "\n",
    "    #img\n",
    "    media = s_notice.find('div', attrs={'class':'image itemGallery classid5323329'}).find('img')\n",
    "    img_src=media.get('data-td-src-property')\n",
    "    try:\n",
    "        r_img=requests.get(img_src)\n",
    "        if r_img.status_code==200:\n",
    "            dict['img']=r_img.content\n",
    "        else:\n",
    "            dict['img']=None\n",
    "    except:\n",
    "        print('there is not image')\n",
    "\n",
    "    return dict\n",
    "\n",
    "\n"
   ]
  }
 ],
 "metadata": {
  "kernelspec": {
   "display_name": "venv",
   "language": "python",
   "name": "python3"
  },
  "language_info": {
   "codemirror_mode": {
    "name": "ipython",
    "version": 3
   },
   "file_extension": ".py",
   "mimetype": "text/x-python",
   "name": "python",
   "nbconvert_exporter": "python",
   "pygments_lexer": "ipython3",
   "version": "3.10.4"
  },
  "orig_nbformat": 4,
  "vscode": {
   "interpreter": {
    "hash": "97e6cad3ecb9bcade12322525e6936341a6cce36f71e8d97aba20d12930216bb"
   }
  }
 },
 "nbformat": 4,
 "nbformat_minor": 2
}
