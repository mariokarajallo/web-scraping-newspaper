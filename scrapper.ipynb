{
 "cells": [
  {
   "attachments": {},
   "cell_type": "markdown",
   "metadata": {},
   "source": [
    "## Dowload Web"
   ]
  },
  {
   "cell_type": "code",
   "execution_count": 1,
   "metadata": {},
   "outputs": [],
   "source": [
    "import requests\n",
    "url= 'https://d10.ultimahora.com/'\n",
    "r_url= requests.get(url)"
   ]
  },
  {
   "cell_type": "code",
   "execution_count": 2,
   "metadata": {},
   "outputs": [
    {
     "data": {
      "text/plain": [
       "200"
      ]
     },
     "execution_count": 2,
     "metadata": {},
     "output_type": "execute_result"
    }
   ],
   "source": [
    "r_url.status_code"
   ]
  },
  {
   "cell_type": "code",
   "execution_count": 4,
   "metadata": {},
   "outputs": [
    {
     "data": {
      "text/plain": [
       "{'Date': 'Sat, 24 Dec 2022 23:13:55 GMT', 'Accept-Ranges': 'bytes', 'Content-Encoding': 'gzip', 'Content-Type': 'text/html; charset=UTF-8', 'X-HW': '1671923635.cds223.ez1.hn,1671923635.cds214.ez1.p', 'X-Scope-Id': 'bab594a2-46cf-44c0-9a92-f20885ce447b', 'Server': 'nginx', 'Cache-Control': 'public, max-age=60, s-maxage=60', 'x-td-cache-last-generation': '2022-12-24 16:51:47', 'X-Shield-Cache-Expires': '30', 'X-VC-TTL': '60.000', 'X-TD-Cacheable': 'YES', 'x-td-control': 'CC:start; CCT:mc; TOUCH:', 'x-td-mobile': 'false', 'X-TD-Host': 'oregon-varnish-cache-node, oregon-front1', 'X-VC-Age': '11', 'X-VC-D-Date': 'Sat, 24 Dec 2022 23:13:44 GMT', 'X-VC': '827698393 828705155', 'X-VC-Cache': 'hit cacheable', 'Vary': 'Accept-Encoding,User-Agent', 'x-sp-metadata': 'HS256.CMOrnp0GEogBCiRhYmEzZDg3Yy05NzVhLTQwMjMtOThjMS00NTQzMzRhYTQ1ODcQ8NPmmZ/79gIaBgizj56dBiINMTgxLjk0LjIzMy4xNiiUsgEwAjgEQhZUTFNfQUVTXzEyOF9HQ01fU0hBMjU2WiA4ZDlmNzc0NzY3NWUyNDQ1NGNkOWI3ZWQzNWM1ODcwNxoqEiQ4ZTk5ODI4ZS0yYTQ1LTRjMzUtOThlOS01ZTQ0MGRhZThjNWIYsroBIhoIAhIUY2RzMjE0LmV6MS5od2Nkbi5uZXQYCQ==.SeHd3cB7NkT1o6HKATzw0NWJqPmi6Osu6QJU9abzOik=', 'Connection': 'keep-alive', 'Content-Length': '23858'}"
      ]
     },
     "execution_count": 4,
     "metadata": {},
     "output_type": "execute_result"
    }
   ],
   "source": [
    "r_url.headers"
   ]
  },
  {
   "cell_type": "code",
   "execution_count": 5,
   "metadata": {},
   "outputs": [
    {
     "data": {
      "text/plain": [
       "'GET'"
      ]
     },
     "execution_count": 5,
     "metadata": {},
     "output_type": "execute_result"
    }
   ],
   "source": [
    "r_url.request.method"
   ]
  },
  {
   "attachments": {},
   "cell_type": "markdown",
   "metadata": {},
   "source": [
    "## 2. Parse HTML with BeatifulSoup"
   ]
  },
  {
   "cell_type": "code",
   "execution_count": 9,
   "metadata": {},
   "outputs": [],
   "source": [
    "from bs4 import BeautifulSoup"
   ]
  },
  {
   "cell_type": "code",
   "execution_count": 10,
   "metadata": {},
   "outputs": [],
   "source": [
    "soup = BeautifulSoup(r_url.text, 'lxml')"
   ]
  },
  {
   "cell_type": "code",
   "execution_count": 11,
   "metadata": {},
   "outputs": [
    {
     "data": {
      "text/plain": [
       "bs4.BeautifulSoup"
      ]
     },
     "execution_count": 11,
     "metadata": {},
     "output_type": "execute_result"
    }
   ],
   "source": [
    "type(soup)"
   ]
  },
  {
   "cell_type": "code",
   "execution_count": null,
   "metadata": {},
   "outputs": [],
   "source": [
    "print(soup.prettify)"
   ]
  },
  {
   "attachments": {},
   "cell_type": "markdown",
   "metadata": {},
   "source": [
    "## 3. Extrat Information"
   ]
  },
  {
   "cell_type": "code",
   "execution_count": null,
   "metadata": {},
   "outputs": [],
   "source": [
    "#get all section"
   ]
  }
 ],
 "metadata": {
  "kernelspec": {
   "display_name": "venv",
   "language": "python",
   "name": "python3"
  },
  "language_info": {
   "codemirror_mode": {
    "name": "ipython",
    "version": 3
   },
   "file_extension": ".py",
   "mimetype": "text/x-python",
   "name": "python",
   "nbconvert_exporter": "python",
   "pygments_lexer": "ipython3",
   "version": "3.10.4"
  },
  "orig_nbformat": 4,
  "vscode": {
   "interpreter": {
    "hash": "97e6cad3ecb9bcade12322525e6936341a6cce36f71e8d97aba20d12930216bb"
   }
  }
 },
 "nbformat": 4,
 "nbformat_minor": 2
}
