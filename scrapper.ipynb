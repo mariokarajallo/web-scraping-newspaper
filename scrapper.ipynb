{
 "cells": [
  {
   "attachments": {},
   "cell_type": "markdown",
   "metadata": {},
   "source": [
    "## Dowload Web"
   ]
  },
  {
   "cell_type": "code",
   "execution_count": 1,
   "metadata": {},
   "outputs": [],
   "source": [
    "import requests\n",
    "url= 'https://www.ultimahora.com/'\n",
    "r_page= requests.get(url)"
   ]
  },
  {
   "cell_type": "code",
   "execution_count": 2,
   "metadata": {},
   "outputs": [
    {
     "data": {
      "text/plain": [
       "200"
      ]
     },
     "execution_count": 2,
     "metadata": {},
     "output_type": "execute_result"
    }
   ],
   "source": [
    "r_page.status_code"
   ]
  },
  {
   "cell_type": "code",
   "execution_count": 3,
   "metadata": {},
   "outputs": [
    {
     "data": {
      "text/plain": [
       "{'Date': 'Sun, 25 Dec 2022 21:24:09 GMT', 'Content-Encoding': 'gzip', 'Content-Type': 'text/html; charset=UTF-8', 'Accept-Ranges': 'bytes', 'Server': 'nginx', 'Cache-Control': 'public, max-age=60, s-maxage=60', 'x-td-cache-last-generation': '2022-12-25 18:19:05', 'X-Shield-Cache-Expires': '30', 'X-VC-TTL': '60.000', 'X-TD-Cacheable': 'YES', 'x-td-control': 'CC:start; CCT:mc; TOUCH:', 'x-td-mobile': 'false', 'X-TD-Host': 'oregon-varnish-cache-node, oregon-front2', 'X-VC-Age': '4', 'X-VC-D-Date': 'Sun, 25 Dec 2022 21:23:47 GMT', 'X-VC': '825097363 840177076', 'X-VC-Cache': 'hit cacheable', 'Vary': 'Accept-Encoding,User-Agent', 'x-sp-metadata': 'HS256.CImbo50GEocBCiQ5NzhlNWRmMS03Y2RkLTRhZWYtOThkZC01ZDc2MjZjMDhiZTMQoKOE8Jz79gIaBgj5/qKdBiINMTgxLjk0LjIzMy4xNii4VzACOARCFlRMU19BRVNfMTI4X0dDTV9TSEEyNTZaIDhkOWY3NzQ3Njc1ZTI0NDU0Y2Q5YjdlZDM1YzU4NzA3GiwIARIkMWEzMTdkOWItYjgwYS00ZGNjLWE5Y2ItMWVmNWNmYjQ1MjJiGI2bAiIYCAISFGNkczIwNy5lejEuaHdjZG4ubmV0.NsMTYUYfzAfp2eWKIZYjOc6gIjQw63O8J+EUa98/Dpo=', 'X-HW': '1672003449.cds208.ez1.hn,1672003449.cds207.ez1.c', 'X-Scope-Id': '1a75a101-853f-4018-8659-f181dec900c7', 'Connection': 'keep-alive', 'Content-Length': '36237'}"
      ]
     },
     "execution_count": 3,
     "metadata": {},
     "output_type": "execute_result"
    }
   ],
   "source": [
    "r_page.headers"
   ]
  },
  {
   "cell_type": "code",
   "execution_count": 4,
   "metadata": {},
   "outputs": [
    {
     "data": {
      "text/plain": [
       "'GET'"
      ]
     },
     "execution_count": 4,
     "metadata": {},
     "output_type": "execute_result"
    }
   ],
   "source": [
    "r_page.request.method"
   ]
  },
  {
   "cell_type": "code",
   "execution_count": 5,
   "metadata": {},
   "outputs": [],
   "source": [
    "#r_page.content"
   ]
  },
  {
   "attachments": {},
   "cell_type": "markdown",
   "metadata": {},
   "source": [
    "## 2. Parse HTML with BeatifulSoup"
   ]
  },
  {
   "cell_type": "code",
   "execution_count": 6,
   "metadata": {},
   "outputs": [],
   "source": [
    "from bs4 import BeautifulSoup"
   ]
  },
  {
   "cell_type": "code",
   "execution_count": 7,
   "metadata": {},
   "outputs": [],
   "source": [
    "soup_page = BeautifulSoup(r_page.text, 'lxml')"
   ]
  },
  {
   "cell_type": "code",
   "execution_count": 8,
   "metadata": {},
   "outputs": [
    {
     "data": {
      "text/plain": [
       "bs4.BeautifulSoup"
      ]
     },
     "execution_count": 8,
     "metadata": {},
     "output_type": "execute_result"
    }
   ],
   "source": [
    "type(soup_page)"
   ]
  },
  {
   "cell_type": "code",
   "execution_count": 9,
   "metadata": {},
   "outputs": [],
   "source": [
    "#print(soup_page.prettify)"
   ]
  },
  {
   "attachments": {},
   "cell_type": "markdown",
   "metadata": {},
   "source": [
    "## 3. Extrat Information"
   ]
  },
  {
   "cell_type": "code",
   "execution_count": 13,
   "metadata": {},
   "outputs": [
    {
     "name": "stdout",
     "output_type": "stream",
     "text": [
      "18\n"
     ]
    }
   ],
   "source": [
    "#get all section\n",
    "section = soup_page.find_all('li', attrs={'class':'col-6 item-menu'})\n"
   ]
  },
  {
   "cell_type": "code",
   "execution_count": 14,
   "metadata": {},
   "outputs": [
    {
     "data": {
      "text/plain": [
       "<li class=\"col-6 item-menu\"> <a alt=\"Ultima Hora | Nacionales\" href=\"https://www.ultimahora.com/contenidos/nacional.html\" target=\"\" title=\"Ultima Hora | Nacionales\">\n",
       "                    Nacionales\n",
       "                </a></li>"
      ]
     },
     "execution_count": 14,
     "metadata": {},
     "output_type": "execute_result"
    }
   ],
   "source": [
    "title_1 = section[0]\n",
    "title_1"
   ]
  },
  {
   "cell_type": "code",
   "execution_count": 15,
   "metadata": {},
   "outputs": [
    {
     "name": "stdout",
     "output_type": "stream",
     "text": [
      "https://www.ultimahora.com/contenidos/nacional.html\n"
     ]
    }
   ],
   "source": [
    "#get link\n",
    "link = title_1.a.get('href')\n",
    "print (link)"
   ]
  },
  {
   "cell_type": "code",
   "execution_count": 16,
   "metadata": {},
   "outputs": [
    {
     "data": {
      "text/plain": [
       "['https://www.ultimahora.com/contenidos/nacional.html',\n",
       " 'https://www.ultimahora.com/contenidos/edicion_impresa.html',\n",
       " 'https://d10.ultimahora.com/',\n",
       " 'https://www.ultimahora.com/contenidos/brand-voice.html',\n",
       " 'https://www.ultimahora.com/contenidos/mundo.html',\n",
       " 'https://www.ultimahora.com/contenidos/Sociedad.html',\n",
       " 'https://www.ultimahora.com/contenidos/arte-y-espectaculos.html',\n",
       " 'https://www.ultimahora.com/contenidos/politica-privacidad.html',\n",
       " 'https://media.ultimahora.com/adjuntos/161/documentos/009/610/0009610703.pdf?0000-00-00-00-00-00',\n",
       " 'https://media.ultimahora.com/adjuntos/161/documentos/009/610/0009610721.pdf?0000-00-00-00-00-00',\n",
       " 'mailto:Publicidad_Digital@uhora.com.py',\n",
       " 'https://www.ultimahora.com/empresas-y-negocios-a28856.html',\n",
       " 'https://www.ultimahora.com/correo-semanal-a60.html',\n",
       " 'https://www.ultimahora.com/contenidos/colecciones_UH.html',\n",
       " 'https://www.ultimahora.com/contenidos/expo_rodados.html',\n",
       " 'https://www.ultimahora.com/contenidos/expouniversidades.html',\n",
       " 'https://www.ultimahora.com/contenidos/opiniones.html',\n",
       " 'https://www.ultimahora.com/contenidos/funebres.html']"
      ]
     },
     "execution_count": 16,
     "metadata": {},
     "output_type": "execute_result"
    }
   ],
   "source": [
    "# get all links\n",
    "links_section = [i.a.get('href') for i in section]\n",
    "links_section"
   ]
  },
  {
   "cell_type": "code",
   "execution_count": 17,
   "metadata": {},
   "outputs": [
    {
     "name": "stdout",
     "output_type": "stream",
     "text": [
      "Nacionales\n"
     ]
    }
   ],
   "source": [
    "#get title\n",
    "title_1_1=title_1.get_text()\n",
    "print(title_1_1.strip())"
   ]
  },
  {
   "cell_type": "code",
   "execution_count": 18,
   "metadata": {},
   "outputs": [
    {
     "data": {
      "text/plain": [
       "['Nacionales',\n",
       " 'Impreso',\n",
       " 'D10',\n",
       " 'Brand Voice',\n",
       " 'Mundo',\n",
       " 'Sociedad',\n",
       " 'Arte',\n",
       " 'Politicas de Privacidad',\n",
       " 'Bases y Condiciones - Servicio de Suscripción a Crédito',\n",
       " 'Bases y Condiciones - Servicio de Publicación e Impresión',\n",
       " 'Anuncie con nosotros',\n",
       " 'Empresariales',\n",
       " 'Correo Semanal',\n",
       " 'Colecciones ÚH',\n",
       " 'Expo Rodados',\n",
       " 'Expo Universidades',\n",
       " 'Opinion',\n",
       " 'Fúnebres']"
      ]
     },
     "execution_count": 18,
     "metadata": {},
     "output_type": "execute_result"
    }
   ],
   "source": [
    "# metodo strip para eliminar espacios en blanco\n",
    "titles_section=[i.get_text().strip() for i in section]\n",
    "titles_section"
   ]
  },
  {
   "cell_type": "code",
   "execution_count": 40,
   "metadata": {},
   "outputs": [
    {
     "data": {
      "text/plain": [
       "200"
      ]
     },
     "execution_count": 40,
     "metadata": {},
     "output_type": "execute_result"
    }
   ],
   "source": [
    "# now, try if 1 web is working\n",
    "valid_link_1 = requests.get(links_section[0])\n",
    "valid_link_1.status_code"
   ]
  },
  {
   "cell_type": "code",
   "execution_count": 41,
   "metadata": {},
   "outputs": [],
   "source": [
    "#get XPATH\n",
    "from lxml import etree\n",
    "soup_link_1=BeautifulSoup(valid_link_1.text, 'lxml')\n",
    "xp_link_1= etree.HTML(str(soup_link_1))"
   ]
  },
  {
   "cell_type": "code",
   "execution_count": 52,
   "metadata": {},
   "outputs": [
    {
     "data": {
      "text/plain": [
       "'Accidentes dejan tres motociclistas muertos durante esta Navidad'"
      ]
     },
     "execution_count": 52,
     "metadata": {},
     "output_type": "execute_result"
    }
   ],
   "source": [
    "xp_link_1.xpath(\"//div[@class='col-12 col-lg-8']//*[@class='article-title']//a\")[0].text"
   ]
  },
  {
   "cell_type": "code",
   "execution_count": 53,
   "metadata": {},
   "outputs": [
    {
     "data": {
      "text/plain": [
       "'https://www.ultimahora.com/accidentes-dejan-tres-motociclistas-muertos-esta-navidad-n3040449.html'"
      ]
     },
     "execution_count": 53,
     "metadata": {},
     "output_type": "execute_result"
    }
   ],
   "source": [
    "xp_link_1.xpath(\"//div[@class='col-12 col-lg-8']//*[@class='article-title']//a\")[0].get('href')"
   ]
  },
  {
   "attachments": {},
   "cell_type": "markdown",
   "metadata": {},
   "source": [
    "## Errors"
   ]
  },
  {
   "cell_type": "code",
   "execution_count": 55,
   "metadata": {},
   "outputs": [
    {
     "data": {
      "text/plain": [
       "'https://www.ultimahora.com/contenidos/nacional.html'"
      ]
     },
     "execution_count": 55,
     "metadata": {},
     "output_type": "execute_result"
    }
   ],
   "source": [
    "links_section[0]"
   ]
  },
  {
   "cell_type": "code",
   "execution_count": 54,
   "metadata": {},
   "outputs": [
    {
     "name": "stdout",
     "output_type": "stream",
     "text": [
      "succes\n"
     ]
    }
   ],
   "source": [
    "#requets\n",
    "valid_link_1 = requests.get(links_section[0])\n",
    "if valid_link_1.status_code == 200:\n",
    "    #succes\n",
    "    print('succes')\n",
    "else:\n",
    "    #Error\n",
    "    print('error')"
   ]
  },
  {
   "cell_type": "code",
   "execution_count": 57,
   "metadata": {},
   "outputs": [
    {
     "data": {
      "text/plain": [
       "'https://www.ultimzhorz.com/contenidos/nzcionzl.html'"
      ]
     },
     "execution_count": 57,
     "metadata": {},
     "output_type": "execute_result"
    }
   ],
   "source": [
    "#create a bad url\n",
    "bad_url=links_section[0].replace('a','z')\n",
    "bad_url"
   ]
  },
  {
   "cell_type": "code",
   "execution_count": 59,
   "metadata": {},
   "outputs": [
    {
     "ename": "ConnectionError",
     "evalue": "HTTPSConnectionPool(host='www.ultimzhorz.com', port=443): Max retries exceeded with url: /contenidos/nzcionzl.html (Caused by NewConnectionError('<urllib3.connection.HTTPSConnection object at 0x000002277EE2FF70>: Failed to establish a new connection: [Errno 11001] getaddrinfo failed'))",
     "output_type": "error",
     "traceback": [
      "\u001b[1;31m---------------------------------------------------------------------------\u001b[0m",
      "\u001b[1;31mgaierror\u001b[0m                                  Traceback (most recent call last)",
      "File \u001b[1;32mc:\\Users\\mario\\Documents\\Tutoriales\\Web Scraping Proyectos\\web-scraping-newspaper-abc\\venv\\lib\\site-packages\\urllib3\\connection.py:174\u001b[0m, in \u001b[0;36mHTTPConnection._new_conn\u001b[1;34m(self)\u001b[0m\n\u001b[0;32m    173\u001b[0m \u001b[39mtry\u001b[39;00m:\n\u001b[1;32m--> 174\u001b[0m     conn \u001b[39m=\u001b[39m connection\u001b[39m.\u001b[39mcreate_connection(\n\u001b[0;32m    175\u001b[0m         (\u001b[39mself\u001b[39m\u001b[39m.\u001b[39m_dns_host, \u001b[39mself\u001b[39m\u001b[39m.\u001b[39mport), \u001b[39mself\u001b[39m\u001b[39m.\u001b[39mtimeout, \u001b[39m*\u001b[39m\u001b[39m*\u001b[39mextra_kw\n\u001b[0;32m    176\u001b[0m     )\n\u001b[0;32m    178\u001b[0m \u001b[39mexcept\u001b[39;00m SocketTimeout:\n",
      "File \u001b[1;32mc:\\Users\\mario\\Documents\\Tutoriales\\Web Scraping Proyectos\\web-scraping-newspaper-abc\\venv\\lib\\site-packages\\urllib3\\util\\connection.py:72\u001b[0m, in \u001b[0;36mcreate_connection\u001b[1;34m(address, timeout, source_address, socket_options)\u001b[0m\n\u001b[0;32m     68\u001b[0m     \u001b[39mreturn\u001b[39;00m six\u001b[39m.\u001b[39mraise_from(\n\u001b[0;32m     69\u001b[0m         LocationParseError(\u001b[39mu\u001b[39m\u001b[39m\"\u001b[39m\u001b[39m'\u001b[39m\u001b[39m%s\u001b[39;00m\u001b[39m'\u001b[39m\u001b[39m, label empty or too long\u001b[39m\u001b[39m\"\u001b[39m \u001b[39m%\u001b[39m host), \u001b[39mNone\u001b[39;00m\n\u001b[0;32m     70\u001b[0m     )\n\u001b[1;32m---> 72\u001b[0m \u001b[39mfor\u001b[39;00m res \u001b[39min\u001b[39;00m socket\u001b[39m.\u001b[39;49mgetaddrinfo(host, port, family, socket\u001b[39m.\u001b[39;49mSOCK_STREAM):\n\u001b[0;32m     73\u001b[0m     af, socktype, proto, canonname, sa \u001b[39m=\u001b[39m res\n",
      "File \u001b[1;32m~\\AppData\\Local\\Programs\\Python\\Python310\\lib\\socket.py:955\u001b[0m, in \u001b[0;36mgetaddrinfo\u001b[1;34m(host, port, family, type, proto, flags)\u001b[0m\n\u001b[0;32m    954\u001b[0m addrlist \u001b[39m=\u001b[39m []\n\u001b[1;32m--> 955\u001b[0m \u001b[39mfor\u001b[39;00m res \u001b[39min\u001b[39;00m _socket\u001b[39m.\u001b[39;49mgetaddrinfo(host, port, family, \u001b[39mtype\u001b[39;49m, proto, flags):\n\u001b[0;32m    956\u001b[0m     af, socktype, proto, canonname, sa \u001b[39m=\u001b[39m res\n",
      "\u001b[1;31mgaierror\u001b[0m: [Errno 11001] getaddrinfo failed",
      "\nDuring handling of the above exception, another exception occurred:\n",
      "\u001b[1;31mNewConnectionError\u001b[0m                        Traceback (most recent call last)",
      "File \u001b[1;32mc:\\Users\\mario\\Documents\\Tutoriales\\Web Scraping Proyectos\\web-scraping-newspaper-abc\\venv\\lib\\site-packages\\urllib3\\connectionpool.py:703\u001b[0m, in \u001b[0;36mHTTPConnectionPool.urlopen\u001b[1;34m(self, method, url, body, headers, retries, redirect, assert_same_host, timeout, pool_timeout, release_conn, chunked, body_pos, **response_kw)\u001b[0m\n\u001b[0;32m    702\u001b[0m \u001b[39m# Make the request on the httplib connection object.\u001b[39;00m\n\u001b[1;32m--> 703\u001b[0m httplib_response \u001b[39m=\u001b[39m \u001b[39mself\u001b[39;49m\u001b[39m.\u001b[39;49m_make_request(\n\u001b[0;32m    704\u001b[0m     conn,\n\u001b[0;32m    705\u001b[0m     method,\n\u001b[0;32m    706\u001b[0m     url,\n\u001b[0;32m    707\u001b[0m     timeout\u001b[39m=\u001b[39;49mtimeout_obj,\n\u001b[0;32m    708\u001b[0m     body\u001b[39m=\u001b[39;49mbody,\n\u001b[0;32m    709\u001b[0m     headers\u001b[39m=\u001b[39;49mheaders,\n\u001b[0;32m    710\u001b[0m     chunked\u001b[39m=\u001b[39;49mchunked,\n\u001b[0;32m    711\u001b[0m )\n\u001b[0;32m    713\u001b[0m \u001b[39m# If we're going to release the connection in ``finally:``, then\u001b[39;00m\n\u001b[0;32m    714\u001b[0m \u001b[39m# the response doesn't need to know about the connection. Otherwise\u001b[39;00m\n\u001b[0;32m    715\u001b[0m \u001b[39m# it will also try to release it and we'll have a double-release\u001b[39;00m\n\u001b[0;32m    716\u001b[0m \u001b[39m# mess.\u001b[39;00m\n",
      "File \u001b[1;32mc:\\Users\\mario\\Documents\\Tutoriales\\Web Scraping Proyectos\\web-scraping-newspaper-abc\\venv\\lib\\site-packages\\urllib3\\connectionpool.py:386\u001b[0m, in \u001b[0;36mHTTPConnectionPool._make_request\u001b[1;34m(self, conn, method, url, timeout, chunked, **httplib_request_kw)\u001b[0m\n\u001b[0;32m    385\u001b[0m \u001b[39mtry\u001b[39;00m:\n\u001b[1;32m--> 386\u001b[0m     \u001b[39mself\u001b[39;49m\u001b[39m.\u001b[39;49m_validate_conn(conn)\n\u001b[0;32m    387\u001b[0m \u001b[39mexcept\u001b[39;00m (SocketTimeout, BaseSSLError) \u001b[39mas\u001b[39;00m e:\n\u001b[0;32m    388\u001b[0m     \u001b[39m# Py2 raises this as a BaseSSLError, Py3 raises it as socket timeout.\u001b[39;00m\n",
      "File \u001b[1;32mc:\\Users\\mario\\Documents\\Tutoriales\\Web Scraping Proyectos\\web-scraping-newspaper-abc\\venv\\lib\\site-packages\\urllib3\\connectionpool.py:1042\u001b[0m, in \u001b[0;36mHTTPSConnectionPool._validate_conn\u001b[1;34m(self, conn)\u001b[0m\n\u001b[0;32m   1041\u001b[0m \u001b[39mif\u001b[39;00m \u001b[39mnot\u001b[39;00m \u001b[39mgetattr\u001b[39m(conn, \u001b[39m\"\u001b[39m\u001b[39msock\u001b[39m\u001b[39m\"\u001b[39m, \u001b[39mNone\u001b[39;00m):  \u001b[39m# AppEngine might not have  `.sock`\u001b[39;00m\n\u001b[1;32m-> 1042\u001b[0m     conn\u001b[39m.\u001b[39;49mconnect()\n\u001b[0;32m   1044\u001b[0m \u001b[39mif\u001b[39;00m \u001b[39mnot\u001b[39;00m conn\u001b[39m.\u001b[39mis_verified:\n",
      "File \u001b[1;32mc:\\Users\\mario\\Documents\\Tutoriales\\Web Scraping Proyectos\\web-scraping-newspaper-abc\\venv\\lib\\site-packages\\urllib3\\connection.py:358\u001b[0m, in \u001b[0;36mHTTPSConnection.connect\u001b[1;34m(self)\u001b[0m\n\u001b[0;32m    356\u001b[0m \u001b[39mdef\u001b[39;00m \u001b[39mconnect\u001b[39m(\u001b[39mself\u001b[39m):\n\u001b[0;32m    357\u001b[0m     \u001b[39m# Add certificate verification\u001b[39;00m\n\u001b[1;32m--> 358\u001b[0m     \u001b[39mself\u001b[39m\u001b[39m.\u001b[39msock \u001b[39m=\u001b[39m conn \u001b[39m=\u001b[39m \u001b[39mself\u001b[39;49m\u001b[39m.\u001b[39;49m_new_conn()\n\u001b[0;32m    359\u001b[0m     hostname \u001b[39m=\u001b[39m \u001b[39mself\u001b[39m\u001b[39m.\u001b[39mhost\n",
      "File \u001b[1;32mc:\\Users\\mario\\Documents\\Tutoriales\\Web Scraping Proyectos\\web-scraping-newspaper-abc\\venv\\lib\\site-packages\\urllib3\\connection.py:186\u001b[0m, in \u001b[0;36mHTTPConnection._new_conn\u001b[1;34m(self)\u001b[0m\n\u001b[0;32m    185\u001b[0m \u001b[39mexcept\u001b[39;00m SocketError \u001b[39mas\u001b[39;00m e:\n\u001b[1;32m--> 186\u001b[0m     \u001b[39mraise\u001b[39;00m NewConnectionError(\n\u001b[0;32m    187\u001b[0m         \u001b[39mself\u001b[39m, \u001b[39m\"\u001b[39m\u001b[39mFailed to establish a new connection: \u001b[39m\u001b[39m%s\u001b[39;00m\u001b[39m\"\u001b[39m \u001b[39m%\u001b[39m e\n\u001b[0;32m    188\u001b[0m     )\n\u001b[0;32m    190\u001b[0m \u001b[39mreturn\u001b[39;00m conn\n",
      "\u001b[1;31mNewConnectionError\u001b[0m: <urllib3.connection.HTTPSConnection object at 0x000002277EE2FF70>: Failed to establish a new connection: [Errno 11001] getaddrinfo failed",
      "\nDuring handling of the above exception, another exception occurred:\n",
      "\u001b[1;31mMaxRetryError\u001b[0m                             Traceback (most recent call last)",
      "File \u001b[1;32mc:\\Users\\mario\\Documents\\Tutoriales\\Web Scraping Proyectos\\web-scraping-newspaper-abc\\venv\\lib\\site-packages\\requests\\adapters.py:489\u001b[0m, in \u001b[0;36mHTTPAdapter.send\u001b[1;34m(self, request, stream, timeout, verify, cert, proxies)\u001b[0m\n\u001b[0;32m    488\u001b[0m \u001b[39mif\u001b[39;00m \u001b[39mnot\u001b[39;00m chunked:\n\u001b[1;32m--> 489\u001b[0m     resp \u001b[39m=\u001b[39m conn\u001b[39m.\u001b[39;49murlopen(\n\u001b[0;32m    490\u001b[0m         method\u001b[39m=\u001b[39;49mrequest\u001b[39m.\u001b[39;49mmethod,\n\u001b[0;32m    491\u001b[0m         url\u001b[39m=\u001b[39;49murl,\n\u001b[0;32m    492\u001b[0m         body\u001b[39m=\u001b[39;49mrequest\u001b[39m.\u001b[39;49mbody,\n\u001b[0;32m    493\u001b[0m         headers\u001b[39m=\u001b[39;49mrequest\u001b[39m.\u001b[39;49mheaders,\n\u001b[0;32m    494\u001b[0m         redirect\u001b[39m=\u001b[39;49m\u001b[39mFalse\u001b[39;49;00m,\n\u001b[0;32m    495\u001b[0m         assert_same_host\u001b[39m=\u001b[39;49m\u001b[39mFalse\u001b[39;49;00m,\n\u001b[0;32m    496\u001b[0m         preload_content\u001b[39m=\u001b[39;49m\u001b[39mFalse\u001b[39;49;00m,\n\u001b[0;32m    497\u001b[0m         decode_content\u001b[39m=\u001b[39;49m\u001b[39mFalse\u001b[39;49;00m,\n\u001b[0;32m    498\u001b[0m         retries\u001b[39m=\u001b[39;49m\u001b[39mself\u001b[39;49m\u001b[39m.\u001b[39;49mmax_retries,\n\u001b[0;32m    499\u001b[0m         timeout\u001b[39m=\u001b[39;49mtimeout,\n\u001b[0;32m    500\u001b[0m     )\n\u001b[0;32m    502\u001b[0m \u001b[39m# Send the request.\u001b[39;00m\n\u001b[0;32m    503\u001b[0m \u001b[39melse\u001b[39;00m:\n",
      "File \u001b[1;32mc:\\Users\\mario\\Documents\\Tutoriales\\Web Scraping Proyectos\\web-scraping-newspaper-abc\\venv\\lib\\site-packages\\urllib3\\connectionpool.py:787\u001b[0m, in \u001b[0;36mHTTPConnectionPool.urlopen\u001b[1;34m(self, method, url, body, headers, retries, redirect, assert_same_host, timeout, pool_timeout, release_conn, chunked, body_pos, **response_kw)\u001b[0m\n\u001b[0;32m    785\u001b[0m     e \u001b[39m=\u001b[39m ProtocolError(\u001b[39m\"\u001b[39m\u001b[39mConnection aborted.\u001b[39m\u001b[39m\"\u001b[39m, e)\n\u001b[1;32m--> 787\u001b[0m retries \u001b[39m=\u001b[39m retries\u001b[39m.\u001b[39;49mincrement(\n\u001b[0;32m    788\u001b[0m     method, url, error\u001b[39m=\u001b[39;49me, _pool\u001b[39m=\u001b[39;49m\u001b[39mself\u001b[39;49m, _stacktrace\u001b[39m=\u001b[39;49msys\u001b[39m.\u001b[39;49mexc_info()[\u001b[39m2\u001b[39;49m]\n\u001b[0;32m    789\u001b[0m )\n\u001b[0;32m    790\u001b[0m retries\u001b[39m.\u001b[39msleep()\n",
      "File \u001b[1;32mc:\\Users\\mario\\Documents\\Tutoriales\\Web Scraping Proyectos\\web-scraping-newspaper-abc\\venv\\lib\\site-packages\\urllib3\\util\\retry.py:592\u001b[0m, in \u001b[0;36mRetry.increment\u001b[1;34m(self, method, url, response, error, _pool, _stacktrace)\u001b[0m\n\u001b[0;32m    591\u001b[0m \u001b[39mif\u001b[39;00m new_retry\u001b[39m.\u001b[39mis_exhausted():\n\u001b[1;32m--> 592\u001b[0m     \u001b[39mraise\u001b[39;00m MaxRetryError(_pool, url, error \u001b[39mor\u001b[39;00m ResponseError(cause))\n\u001b[0;32m    594\u001b[0m log\u001b[39m.\u001b[39mdebug(\u001b[39m\"\u001b[39m\u001b[39mIncremented Retry for (url=\u001b[39m\u001b[39m'\u001b[39m\u001b[39m%s\u001b[39;00m\u001b[39m'\u001b[39m\u001b[39m): \u001b[39m\u001b[39m%r\u001b[39;00m\u001b[39m\"\u001b[39m, url, new_retry)\n",
      "\u001b[1;31mMaxRetryError\u001b[0m: HTTPSConnectionPool(host='www.ultimzhorz.com', port=443): Max retries exceeded with url: /contenidos/nzcionzl.html (Caused by NewConnectionError('<urllib3.connection.HTTPSConnection object at 0x000002277EE2FF70>: Failed to establish a new connection: [Errno 11001] getaddrinfo failed'))",
      "\nDuring handling of the above exception, another exception occurred:\n",
      "\u001b[1;31mConnectionError\u001b[0m                           Traceback (most recent call last)",
      "Cell \u001b[1;32mIn[59], line 2\u001b[0m\n\u001b[0;32m      1\u001b[0m \u001b[39m# test error\u001b[39;00m\n\u001b[1;32m----> 2\u001b[0m valid_link_error \u001b[39m=\u001b[39m requests\u001b[39m.\u001b[39;49mget(bad_url)\n\u001b[0;32m      3\u001b[0m \u001b[39mif\u001b[39;00m valid_link_error\u001b[39m.\u001b[39mstatus_code \u001b[39m==\u001b[39m \u001b[39m200\u001b[39m:\n\u001b[0;32m      4\u001b[0m     \u001b[39m#succes\u001b[39;00m\n\u001b[0;32m      5\u001b[0m     \u001b[39mprint\u001b[39m(\u001b[39m'\u001b[39m\u001b[39msucces\u001b[39m\u001b[39m'\u001b[39m)\n",
      "File \u001b[1;32mc:\\Users\\mario\\Documents\\Tutoriales\\Web Scraping Proyectos\\web-scraping-newspaper-abc\\venv\\lib\\site-packages\\requests\\api.py:73\u001b[0m, in \u001b[0;36mget\u001b[1;34m(url, params, **kwargs)\u001b[0m\n\u001b[0;32m     62\u001b[0m \u001b[39mdef\u001b[39;00m \u001b[39mget\u001b[39m(url, params\u001b[39m=\u001b[39m\u001b[39mNone\u001b[39;00m, \u001b[39m*\u001b[39m\u001b[39m*\u001b[39mkwargs):\n\u001b[0;32m     63\u001b[0m     \u001b[39mr\u001b[39m\u001b[39m\"\"\"Sends a GET request.\u001b[39;00m\n\u001b[0;32m     64\u001b[0m \n\u001b[0;32m     65\u001b[0m \u001b[39m    :param url: URL for the new :class:`Request` object.\u001b[39;00m\n\u001b[1;32m   (...)\u001b[0m\n\u001b[0;32m     70\u001b[0m \u001b[39m    :rtype: requests.Response\u001b[39;00m\n\u001b[0;32m     71\u001b[0m \u001b[39m    \"\"\"\u001b[39;00m\n\u001b[1;32m---> 73\u001b[0m     \u001b[39mreturn\u001b[39;00m request(\u001b[39m\"\u001b[39m\u001b[39mget\u001b[39m\u001b[39m\"\u001b[39m, url, params\u001b[39m=\u001b[39mparams, \u001b[39m*\u001b[39m\u001b[39m*\u001b[39mkwargs)\n",
      "File \u001b[1;32mc:\\Users\\mario\\Documents\\Tutoriales\\Web Scraping Proyectos\\web-scraping-newspaper-abc\\venv\\lib\\site-packages\\requests\\api.py:59\u001b[0m, in \u001b[0;36mrequest\u001b[1;34m(method, url, **kwargs)\u001b[0m\n\u001b[0;32m     55\u001b[0m \u001b[39m# By using the 'with' statement we are sure the session is closed, thus we\u001b[39;00m\n\u001b[0;32m     56\u001b[0m \u001b[39m# avoid leaving sockets open which can trigger a ResourceWarning in some\u001b[39;00m\n\u001b[0;32m     57\u001b[0m \u001b[39m# cases, and look like a memory leak in others.\u001b[39;00m\n\u001b[0;32m     58\u001b[0m \u001b[39mwith\u001b[39;00m sessions\u001b[39m.\u001b[39mSession() \u001b[39mas\u001b[39;00m session:\n\u001b[1;32m---> 59\u001b[0m     \u001b[39mreturn\u001b[39;00m session\u001b[39m.\u001b[39mrequest(method\u001b[39m=\u001b[39mmethod, url\u001b[39m=\u001b[39murl, \u001b[39m*\u001b[39m\u001b[39m*\u001b[39mkwargs)\n",
      "File \u001b[1;32mc:\\Users\\mario\\Documents\\Tutoriales\\Web Scraping Proyectos\\web-scraping-newspaper-abc\\venv\\lib\\site-packages\\requests\\sessions.py:587\u001b[0m, in \u001b[0;36mSession.request\u001b[1;34m(self, method, url, params, data, headers, cookies, files, auth, timeout, allow_redirects, proxies, hooks, stream, verify, cert, json)\u001b[0m\n\u001b[0;32m    582\u001b[0m send_kwargs \u001b[39m=\u001b[39m {\n\u001b[0;32m    583\u001b[0m     \u001b[39m\"\u001b[39m\u001b[39mtimeout\u001b[39m\u001b[39m\"\u001b[39m: timeout,\n\u001b[0;32m    584\u001b[0m     \u001b[39m\"\u001b[39m\u001b[39mallow_redirects\u001b[39m\u001b[39m\"\u001b[39m: allow_redirects,\n\u001b[0;32m    585\u001b[0m }\n\u001b[0;32m    586\u001b[0m send_kwargs\u001b[39m.\u001b[39mupdate(settings)\n\u001b[1;32m--> 587\u001b[0m resp \u001b[39m=\u001b[39m \u001b[39mself\u001b[39m\u001b[39m.\u001b[39msend(prep, \u001b[39m*\u001b[39m\u001b[39m*\u001b[39msend_kwargs)\n\u001b[0;32m    589\u001b[0m \u001b[39mreturn\u001b[39;00m resp\n",
      "File \u001b[1;32mc:\\Users\\mario\\Documents\\Tutoriales\\Web Scraping Proyectos\\web-scraping-newspaper-abc\\venv\\lib\\site-packages\\requests\\sessions.py:701\u001b[0m, in \u001b[0;36mSession.send\u001b[1;34m(self, request, **kwargs)\u001b[0m\n\u001b[0;32m    698\u001b[0m start \u001b[39m=\u001b[39m preferred_clock()\n\u001b[0;32m    700\u001b[0m \u001b[39m# Send the request\u001b[39;00m\n\u001b[1;32m--> 701\u001b[0m r \u001b[39m=\u001b[39m adapter\u001b[39m.\u001b[39msend(request, \u001b[39m*\u001b[39m\u001b[39m*\u001b[39mkwargs)\n\u001b[0;32m    703\u001b[0m \u001b[39m# Total elapsed time of the request (approximately)\u001b[39;00m\n\u001b[0;32m    704\u001b[0m elapsed \u001b[39m=\u001b[39m preferred_clock() \u001b[39m-\u001b[39m start\n",
      "File \u001b[1;32mc:\\Users\\mario\\Documents\\Tutoriales\\Web Scraping Proyectos\\web-scraping-newspaper-abc\\venv\\lib\\site-packages\\requests\\adapters.py:565\u001b[0m, in \u001b[0;36mHTTPAdapter.send\u001b[1;34m(self, request, stream, timeout, verify, cert, proxies)\u001b[0m\n\u001b[0;32m    561\u001b[0m     \u001b[39mif\u001b[39;00m \u001b[39misinstance\u001b[39m(e\u001b[39m.\u001b[39mreason, _SSLError):\n\u001b[0;32m    562\u001b[0m         \u001b[39m# This branch is for urllib3 v1.22 and later.\u001b[39;00m\n\u001b[0;32m    563\u001b[0m         \u001b[39mraise\u001b[39;00m SSLError(e, request\u001b[39m=\u001b[39mrequest)\n\u001b[1;32m--> 565\u001b[0m     \u001b[39mraise\u001b[39;00m \u001b[39mConnectionError\u001b[39;00m(e, request\u001b[39m=\u001b[39mrequest)\n\u001b[0;32m    567\u001b[0m \u001b[39mexcept\u001b[39;00m ClosedPoolError \u001b[39mas\u001b[39;00m e:\n\u001b[0;32m    568\u001b[0m     \u001b[39mraise\u001b[39;00m \u001b[39mConnectionError\u001b[39;00m(e, request\u001b[39m=\u001b[39mrequest)\n",
      "\u001b[1;31mConnectionError\u001b[0m: HTTPSConnectionPool(host='www.ultimzhorz.com', port=443): Max retries exceeded with url: /contenidos/nzcionzl.html (Caused by NewConnectionError('<urllib3.connection.HTTPSConnection object at 0x000002277EE2FF70>: Failed to establish a new connection: [Errno 11001] getaddrinfo failed'))"
     ]
    }
   ],
   "source": [
    "# test error\n",
    "valid_link_error = requests.get(bad_url)\n",
    "if valid_link_error.status_code == 200:\n",
    "    #succes\n",
    "    print('succes')\n",
    "else:\n",
    "    #Error\n",
    "    print('error')"
   ]
  },
  {
   "cell_type": "code",
   "execution_count": 66,
   "metadata": {},
   "outputs": [
    {
     "name": "stdout",
     "output_type": "stream",
     "text": [
      "Error request!\n",
      "\n",
      "HTTPSConnectionPool(host='www.ultimzhorz.com', port=443): Max retries exceeded with url: /contenidos/nzcionzl.html (Caused by NewConnectionError('<urllib3.connection.HTTPSConnection object at 0x000002277EFF6FB0>: Failed to establish a new connection: [Errno 11001] getaddrinfo failed'))\n",
      "\n",
      "\n",
      "continue program\n"
     ]
    }
   ],
   "source": [
    "#use TRY/Except\n",
    "try:\n",
    "    valid_link_error = requests.get(bad_url)\n",
    "    if valid_link_error.status_code == 200:\n",
    "        #succes\n",
    "        print('succes')\n",
    "except Exception as e:\n",
    "    print('Error request!\\n')\n",
    "    print(e)\n",
    "    print('\\n')\n",
    "\n",
    "print('continue program')"
   ]
  },
  {
   "attachments": {},
   "cell_type": "markdown",
   "metadata": {},
   "source": [
    "## Downlaod Content"
   ]
  },
  {
   "cell_type": "code",
   "execution_count": 72,
   "metadata": {},
   "outputs": [],
   "source": [
    "url_section_1= links_section[0]\n",
    "r= requests.get(url_section_1)\n",
    "s_page= BeautifulSoup(r.text,'lxml')\n",
    "links_section_1=soup_page.find_all()\n",
    "xp_section_1= etree.HTML(str(s_page))\n"
   ]
  },
  {
   "cell_type": "code",
   "execution_count": 79,
   "metadata": {},
   "outputs": [
    {
     "name": "stdout",
     "output_type": "stream",
     "text": [
      "https://www.ultimahora.com/accidentes-dejan-tres-motociclistas-muertos-esta-navidad-n3040449.html\n",
      "https://www.ultimahora.com/prosigue-proyecto-saneamiento-la-laguna-yrupe-el-banado-n3040451.html\n",
      "https://www.ultimahora.com/oscar-lopez-agente-del-grupo-lince-y-delivery-piloto-aviador-n3040390.html\n",
      "https://www.ultimahora.com/policia-nacional-reporta-nueve-muertes-festejos-nochebuena-n3040447.html\n",
      "https://www.ultimahora.com/incendio-provocado-deja-casa-familias-asentamiento-alto-parana-n3040437.html\n",
      "https://www.ultimahora.com/incendio-empresa-recicladora-afecta-varios-camiones-n3040448.html\n",
      "https://www.ultimahora.com/festejos-navidad-dejan-gran-cantidad-basura-asuncion-n3040440.html\n",
      "https://www.ultimahora.com/detienen-dos-personas-polucion-sonora-y-agresion-policias-n3040441.html\n",
      "https://www.ultimahora.com/cae-neembucu-supuesto-narcotraficante-buscado-argentina-n3040439.html\n",
      "https://www.ultimahora.com/se-incendia-vivienda-y-presumen-que-fue-luces-navidenas-n3040435.html\n",
      "https://www.ultimahora.com/mujer-muere-aparente-accidente-hernandarias-n3040420.html\n"
     ]
    }
   ],
   "source": [
    "links_seccion=xp_section_1.xpath(\"//div[@class='col-12 col-lg-8']//*[@class='article-title']//a\")\n",
    "for i in links_seccion:\n",
    "    link=i.get(\"href\")\n",
    "    print (link)"
   ]
  },
  {
   "cell_type": "code",
   "execution_count": 98,
   "metadata": {},
   "outputs": [
    {
     "name": "stdout",
     "output_type": "stream",
     "text": [
      "Accidentes dejan tres motociclistas muertos durante esta Navidad \n",
      "\n",
      "Los accidentes de tránsito que involucran a biciclos se convirtieron en una constante a nivel país. Solo durante las primeras horas de esta Navidad, ya se dio a conocer que tres motociclistas fallecieron a causa de ello. \n",
      "\n",
      "Si bien las autoridades nacionales aún no dio a conocer el reporte oficial final, con los nuevos fallecidos se evidencia que los accidentes de tránsito protagonizados por biciclos lideran nuevamente como principal causa de muerte en el país.El primer desenlace fatal ocurrió tras un choque entre motociclistas registrado alrededor de las 2:00 de la madrugada de esta jornada, en un camino de terraplén en la Colonia Paraná Poty, distrito de Presidente Franco, en Alto Paraná.La víctima fatal fue una adolescente indígena de 14 años, de la parcialidad Mbya Guaraní y de la comunidad indígena Porvenir, quien se encontraba acompañada de Juliana Martínez, de 18 años. Esta última resultó con lesiones.Ambas iban a bordo de una motocicleta sin chapa, con la cual chocaron contra otro biciclo, también sin chapa, en el que iban a bordo un menor de 15 años y un joven identificado como Germán Cabral, de 19 años, los dos de la misma comunidad indígena mencionada.El adolescente sufrió lesiones aparentemente leves, mientras que Cabral sufrió fuertes golpes, por lo que fue derivado hasta el Hospital Regional de Ciudad del Este, donde quedó internado y en estado de observación, informó Edgar Medina, corresponsal de Última Hora.Un segundo accidente con derivación fatal de un motociclista ocurrió aproximadamente a las 4:40 de este domingo, a la altura del kilómetro 74 de la colonia Tape Porã, en el ex cruce de Itakyry, en el Departamento de Alto Paraná.Se trata de Néstor David Marín Villalba, de 25 años, quien cayó de su biciclo y sufrió lesiones en la parte de la cabeza, tras lo cual perdió la vida.El médico forense Javier Britez, quien inspeccionó el cuerpo del joven, diagnosticó como causa de muerte politraumatismo de cráneo.Otro caso dejó un joven motociclista fallecido en un violento accidente de tránsito ocurrido alrededor de las 5:00 de la madrugada de la Navidad, a la altura del kilómetro 360 de la ruta PY01, en la ciudad de Encarnación, en el Departamento de Itapúa.La víctima fatal fue identificada como Emilio Alberto Cáceres, de 25 años, quien circulaba a bordo en una su motocicleta, mientras que también estuvo involucrada una mujer, de nombre Paola López.La misma resultó ilesa del siniestro y fue sometida a la prueba de alcotest por agentes de la Patrulla Caminera, arrojando resultado negativo, informó Edgar Medina, corresponsal de Última Hora.Cerca de las 19:00 de este sábado 24 de diciembre, durante la Nochebuena, un siniestro vial dejó como resultado la muerte de otro motociclista, esta vez en el kilómetro 118,5 de la ruta PY02, con dirección de Asunción a Ciudad del Este, en Coronel Oviedo, Departamento de Caaguazú.El conductor fallecido fue identificado como Evelio Bruno Zárate Mancuello, quien presumiblemente habría perdido el control de su biciclo, por lo que terminó impactando contra una baranda, informó el corresponsal de la zona, Robert Figueredo.Días pasados, el Hospital de Trauma reportó un elevado número de atención a pacientes accidentados y se vio obligado a convertir sus quirófanos en salas, como también sus pasillos.Puede leer también: Policía Nacional reporta nueve muertes en festejos de NochebuenaDesde el centro asistencial señalaron que solo durante la última semana atendió a 1.915 pacientes, de los cuales 161 fueron víctimas de accidente de tránsito en motocicleta. El nosocomio ya se encuentra saturado y casi sin espacios para más atenciones.De acuerdo con un informe estadístico sobre siniestralidad vial del tercer trimestre de este 2022 de la Agencia Nacional de Tránsito y Seguridad Vial, el 14,7% de los 225 fallecimientos registrados en accidentes de tránsito de julio a setiembre corresponden a motociclistas.Además, de todos los lesionados en siniestros viales, el 74% representa también a conductores de moto. Fueron en total 3.033 lesionados, de los cuales el 38% iba sin casco.Si bien las autoridades nacionales aún no dio a conocer el reporte oficial final, con los nuevos fallecidos se evidencia que los accidentes de tránsito protagonizados por biciclos lideran nuevamente como principal causa de muerte en el país.El primer desenlace fatal ocurrió tras un choque entre motociclistas registrado alrededor de las 2:00 de la madrugada de esta jornada, en un camino de terraplén en la Colonia Paraná Poty, distrito de Presidente Franco, en Alto Paraná.La víctima fatal fue una adolescente indígena de 14 años, de la parcialidad Mbya Guaraní y de la comunidad indígena Porvenir, quien se encontraba acompañada de Juliana Martínez, de 18 años. Esta última resultó con lesiones.Ambas iban a bordo de una motocicleta sin chapa, con la cual chocaron contra otro biciclo, también sin chapa, en el que iban a bordo un menor de 15 años y un joven identificado como Germán Cabral, de 19 años, los dos de la misma comunidad indígena mencionada.El adolescente sufrió lesiones aparentemente leves, mientras que Cabral sufrió fuertes golpes, por lo que fue derivado hasta el Hospital Regional de Ciudad del Este, donde quedó internado y en estado de observación, informó Edgar Medina, corresponsal de Última Hora.Un segundo accidente con derivación fatal de un motociclista ocurrió aproximadamente a las 4:40 de este domingo, a la altura del kilómetro 74 de la colonia Tape Porã, en el ex cruce de Itakyry, en el Departamento de Alto Paraná.Se trata de Néstor David Marín Villalba, de 25 años, quien cayó de su biciclo y sufrió lesiones en la parte de la cabeza, tras lo cual perdió la vida.El médico forense Javier Britez, quien inspeccionó el cuerpo del joven, diagnosticó como causa de muerte politraumatismo de cráneo.Otro caso dejó un joven motociclista fallecido en un violento accidente de tránsito ocurrido alrededor de las 5:00 de la madrugada de la Navidad, a la altura del kilómetro 360 de la ruta PY01, en la ciudad de Encarnación, en el Departamento de Itapúa.La víctima fatal fue identificada como Emilio Alberto Cáceres, de 25 años, quien circulaba a bordo en una su motocicleta, mientras que también estuvo involucrada una mujer, de nombre Paola López.La misma resultó ilesa del siniestro y fue sometida a la prueba de alcotest por agentes de la Patrulla Caminera, arrojando resultado negativo, informó Edgar Medina, corresponsal de Última Hora.Cerca de las 19:00 de este sábado 24 de diciembre, durante la Nochebuena, un siniestro vial dejó como resultado la muerte de otro motociclista, esta vez en el kilómetro 118,5 de la ruta PY02, con dirección de Asunción a Ciudad del Este, en Coronel Oviedo, Departamento de Caaguazú.El conductor fallecido fue identificado como Evelio Bruno Zárate Mancuello, quien presumiblemente habría perdido el control de su biciclo, por lo que terminó impactando contra una baranda, informó el corresponsal de la zona, Robert Figueredo.Días pasados, el Hospital de Trauma reportó un elevado número de atención a pacientes accidentados y se vio obligado a convertir sus quirófanos en salas, como también sus pasillos.Puede leer también: Policía Nacional reporta nueve muertes en festejos de NochebuenaDesde el centro asistencial señalaron que solo durante la última semana atendió a 1.915 pacientes, de los cuales 161 fueron víctimas de accidente de tránsito en motocicleta. El nosocomio ya se encuentra saturado y casi sin espacios para más atenciones.De acuerdo con un informe estadístico sobre siniestralidad vial del tercer trimestre de este 2022 de la Agencia Nacional de Tránsito y Seguridad Vial, el 14,7% de los 225 fallecimientos registrados en accidentes de tránsito de julio a setiembre corresponden a motociclistas.Además, de todos los lesionados en siniestros viales, el 74% representa también a conductores de moto. Fueron en total 3.033 lesionados, de los cuales el 38% iba sin casco.Si bien las autoridades nacionales aún no dio a conocer el reporte oficial final, con los nuevos fallecidos se evidencia que los accidentes de tránsito protagonizados por biciclos lideran nuevamente como principal causa de muerte en el país.El primer desenlace fatal ocurrió tras un choque entre motociclistas registrado alrededor de las 2:00 de la madrugada de esta jornada, en un camino de terraplén en la Colonia Paraná Poty, distrito de Presidente Franco, en Alto Paraná.La víctima fatal fue una adolescente indígena de 14 años, de la parcialidad Mbya Guaraní y de la comunidad indígena Porvenir, quien se encontraba acompañada de Juliana Martínez, de 18 años. Esta última resultó con lesiones.Ambas iban a bordo de una motocicleta sin chapa, con la cual chocaron contra otro biciclo, también sin chapa, en el que iban a bordo un menor de 15 años y un joven identificado como Germán Cabral, de 19 años, los dos de la misma comunidad indígena mencionada.El adolescente sufrió lesiones aparentemente leves, mientras que Cabral sufrió fuertes golpes, por lo que fue derivado hasta el Hospital Regional de Ciudad del Este, donde quedó internado y en estado de observación, informó Edgar Medina, corresponsal de Última Hora.Un segundo accidente con derivación fatal de un motociclista ocurrió aproximadamente a las 4:40 de este domingo, a la altura del kilómetro 74 de la colonia Tape Porã, en el ex cruce de Itakyry, en el Departamento de Alto Paraná.Se trata de Néstor David Marín Villalba, de 25 años, quien cayó de su biciclo y sufrió lesiones en la parte de la cabeza, tras lo cual perdió la vida.El médico forense Javier Britez, quien inspeccionó el cuerpo del joven, diagnosticó como causa de muerte politraumatismo de cráneo.Otro caso dejó un joven motociclista fallecido en un violento accidente de tránsito ocurrido alrededor de las 5:00 de la madrugada de la Navidad, a la altura del kilómetro 360 de la ruta PY01, en la ciudad de Encarnación, en el Departamento de Itapúa.La víctima fatal fue identificada como Emilio Alberto Cáceres, de 25 años, quien circulaba a bordo en una su motocicleta, mientras que también estuvo involucrada una mujer, de nombre Paola López.La misma resultó ilesa del siniestro y fue sometida a la prueba de alcotest por agentes de la Patrulla Caminera, arrojando resultado negativo, informó Edgar Medina, corresponsal de Última Hora.Cerca de las 19:00 de este sábado 24 de diciembre, durante la Nochebuena, un siniestro vial dejó como resultado la muerte de otro motociclista, esta vez en el kilómetro 118,5 de la ruta PY02, con dirección de Asunción a Ciudad del Este, en Coronel Oviedo, Departamento de Caaguazú.El conductor fallecido fue identificado como Evelio Bruno Zárate Mancuello, quien presumiblemente habría perdido el control de su biciclo, por lo que terminó impactando contra una baranda, informó el corresponsal de la zona, Robert Figueredo.Días pasados, el Hospital de Trauma reportó un elevado número de atención a pacientes accidentados y se vio obligado a convertir sus quirófanos en salas, como también sus pasillos.Puede leer también: Policía Nacional reporta nueve muertes en festejos de NochebuenaDesde el centro asistencial señalaron que solo durante la última semana atendió a 1.915 pacientes, de los cuales 161 fueron víctimas de accidente de tránsito en motocicleta. El nosocomio ya se encuentra saturado y casi sin espacios para más atenciones.De acuerdo con un informe estadístico sobre siniestralidad vial del tercer trimestre de este 2022 de la Agencia Nacional de Tránsito y Seguridad Vial, el 14,7% de los 225 fallecimientos registrados en accidentes de tránsito de julio a setiembre corresponden a motociclistas.Además, de todos los lesionados en siniestros viales, el 74% representa también a conductores de moto. Fueron en total 3.033 lesionados, de los cuales el 38% iba sin casco.Si bien las autoridades nacionales aún no dio a conocer el reporte oficial final, con los nuevos fallecidos se evidencia que los accidentes de tránsito protagonizados por biciclos lideran nuevamente como principal causa de muerte en el país.El primer desenlace fatal ocurrió tras un choque entre motociclistas registrado alrededor de las 2:00 de la madrugada de esta jornada, en un camino de terraplén en la Colonia Paraná Poty, distrito de Presidente Franco, en Alto Paraná.La víctima fatal fue una adolescente indígena de 14 años, de la parcialidad Mbya Guaraní y de la comunidad indígena Porvenir, quien se encontraba acompañada de Juliana Martínez, de 18 años. Esta última resultó con lesiones.Ambas iban a bordo de una motocicleta sin chapa, con la cual chocaron contra otro biciclo, también sin chapa, en el que iban a bordo un menor de 15 años y un joven identificado como Germán Cabral, de 19 años, los dos de la misma comunidad indígena mencionada.El adolescente sufrió lesiones aparentemente leves, mientras que Cabral sufrió fuertes golpes, por lo que fue derivado hasta el Hospital Regional de Ciudad del Este, donde quedó internado y en estado de observación, informó Edgar Medina, corresponsal de Última Hora.Un segundo accidente con derivación fatal de un motociclista ocurrió aproximadamente a las 4:40 de este domingo, a la altura del kilómetro 74 de la colonia Tape Porã, en el ex cruce de Itakyry, en el Departamento de Alto Paraná.Se trata de Néstor David Marín Villalba, de 25 años, quien cayó de su biciclo y sufrió lesiones en la parte de la cabeza, tras lo cual perdió la vida.El médico forense Javier Britez, quien inspeccionó el cuerpo del joven, diagnosticó como causa de muerte politraumatismo de cráneo.Otro caso dejó un joven motociclista fallecido en un violento accidente de tránsito ocurrido alrededor de las 5:00 de la madrugada de la Navidad, a la altura del kilómetro 360 de la ruta PY01, en la ciudad de Encarnación, en el Departamento de Itapúa.La víctima fatal fue identificada como Emilio Alberto Cáceres, de 25 años, quien circulaba a bordo en una su motocicleta, mientras que también estuvo involucrada una mujer, de nombre Paola López.La misma resultó ilesa del siniestro y fue sometida a la prueba de alcotest por agentes de la Patrulla Caminera, arrojando resultado negativo, informó Edgar Medina, corresponsal de Última Hora.Cerca de las 19:00 de este sábado 24 de diciembre, durante la Nochebuena, un siniestro vial dejó como resultado la muerte de otro motociclista, esta vez en el kilómetro 118,5 de la ruta PY02, con dirección de Asunción a Ciudad del Este, en Coronel Oviedo, Departamento de Caaguazú.El conductor fallecido fue identificado como Evelio Bruno Zárate Mancuello, quien presumiblemente habría perdido el control de su biciclo, por lo que terminó impactando contra una baranda, informó el corresponsal de la zona, Robert Figueredo.Días pasados, el Hospital de Trauma reportó un elevado número de atención a pacientes accidentados y se vio obligado a convertir sus quirófanos en salas, como también sus pasillos.Puede leer también: Policía Nacional reporta nueve muertes en festejos de NochebuenaDesde el centro asistencial señalaron que solo durante la última semana atendió a 1.915 pacientes, de los cuales 161 fueron víctimas de accidente de tránsito en motocicleta. El nosocomio ya se encuentra saturado y casi sin espacios para más atenciones.De acuerdo con un informe estadístico sobre siniestralidad vial del tercer trimestre de este 2022 de la Agencia Nacional de Tránsito y Seguridad Vial, el 14,7% de los 225 fallecimientos registrados en accidentes de tránsito de julio a setiembre corresponden a motociclistas.Además, de todos los lesionados en siniestros viales, el 74% representa también a conductores de moto. Fueron en total 3.033 lesionados, de los cuales el 38% iba sin casco. \n",
      "\n"
     ]
    }
   ],
   "source": [
    "url_noticia_1='https://www.ultimahora.com/accidentes-dejan-tres-motociclistas-muertos-esta-navidad-n3040449.html'\n",
    "try:\n",
    "    r= requests.get(url_noticia_1)\n",
    "    if r.status_code==200:\n",
    "        s_page= BeautifulSoup(r.text,'lxml')\n",
    "        #title \n",
    "        title=s_page.find('h1', attrs={'class':'title'}).text\n",
    "        print (title,'\\n')\n",
    "        #sumary\n",
    "        summary=s_page.find('h2', attrs={'class':'excerpt'}).text\n",
    "        print (summary,'\\n')\n",
    "        #body\n",
    "        body=s_page.find('div', attrs={'class':'body-content note-body'}).find_all('p')\n",
    "        for p in body:\n",
    "            b=b+''+(p.text)\n",
    "        print (b,'\\n')\n",
    "    else:\n",
    "        print(f'Error: {r.status_code}')\n",
    "\n",
    "except Exception as e:\n",
    "    print('Error')\n",
    "    print(e)"
   ]
  }
 ],
 "metadata": {
  "kernelspec": {
   "display_name": "venv",
   "language": "python",
   "name": "python3"
  },
  "language_info": {
   "codemirror_mode": {
    "name": "ipython",
    "version": 3
   },
   "file_extension": ".py",
   "mimetype": "text/x-python",
   "name": "python",
   "nbconvert_exporter": "python",
   "pygments_lexer": "ipython3",
   "version": "3.10.4"
  },
  "orig_nbformat": 4,
  "vscode": {
   "interpreter": {
    "hash": "97e6cad3ecb9bcade12322525e6936341a6cce36f71e8d97aba20d12930216bb"
   }
  }
 },
 "nbformat": 4,
 "nbformat_minor": 2
}
