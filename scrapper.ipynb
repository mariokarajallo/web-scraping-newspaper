{
 "cells": [
  {
   "attachments": {},
   "cell_type": "markdown",
   "metadata": {},
   "source": [
    "## Dowload Web"
   ]
  },
  {
   "cell_type": "code",
   "execution_count": 1,
   "metadata": {},
   "outputs": [],
   "source": [
    "import requests\n",
    "url= 'https://www.ultimahora.com/'\n",
    "r_page= requests.get(url)"
   ]
  },
  {
   "cell_type": "code",
   "execution_count": 2,
   "metadata": {},
   "outputs": [
    {
     "data": {
      "text/plain": [
       "200"
      ]
     },
     "execution_count": 2,
     "metadata": {},
     "output_type": "execute_result"
    }
   ],
   "source": [
    "r_page.status_code"
   ]
  },
  {
   "cell_type": "code",
   "execution_count": 3,
   "metadata": {},
   "outputs": [
    {
     "data": {
      "text/plain": [
       "{'Date': 'Sun, 25 Dec 2022 21:24:09 GMT', 'Content-Encoding': 'gzip', 'Content-Type': 'text/html; charset=UTF-8', 'Accept-Ranges': 'bytes', 'Server': 'nginx', 'Cache-Control': 'public, max-age=60, s-maxage=60', 'x-td-cache-last-generation': '2022-12-25 18:19:05', 'X-Shield-Cache-Expires': '30', 'X-VC-TTL': '60.000', 'X-TD-Cacheable': 'YES', 'x-td-control': 'CC:start; CCT:mc; TOUCH:', 'x-td-mobile': 'false', 'X-TD-Host': 'oregon-varnish-cache-node, oregon-front2', 'X-VC-Age': '4', 'X-VC-D-Date': 'Sun, 25 Dec 2022 21:23:47 GMT', 'X-VC': '825097363 840177076', 'X-VC-Cache': 'hit cacheable', 'Vary': 'Accept-Encoding,User-Agent', 'x-sp-metadata': 'HS256.CImbo50GEocBCiQ5NzhlNWRmMS03Y2RkLTRhZWYtOThkZC01ZDc2MjZjMDhiZTMQoKOE8Jz79gIaBgj5/qKdBiINMTgxLjk0LjIzMy4xNii4VzACOARCFlRMU19BRVNfMTI4X0dDTV9TSEEyNTZaIDhkOWY3NzQ3Njc1ZTI0NDU0Y2Q5YjdlZDM1YzU4NzA3GiwIARIkMWEzMTdkOWItYjgwYS00ZGNjLWE5Y2ItMWVmNWNmYjQ1MjJiGI2bAiIYCAISFGNkczIwNy5lejEuaHdjZG4ubmV0.NsMTYUYfzAfp2eWKIZYjOc6gIjQw63O8J+EUa98/Dpo=', 'X-HW': '1672003449.cds208.ez1.hn,1672003449.cds207.ez1.c', 'X-Scope-Id': '1a75a101-853f-4018-8659-f181dec900c7', 'Connection': 'keep-alive', 'Content-Length': '36237'}"
      ]
     },
     "execution_count": 3,
     "metadata": {},
     "output_type": "execute_result"
    }
   ],
   "source": [
    "r_page.headers"
   ]
  },
  {
   "cell_type": "code",
   "execution_count": 4,
   "metadata": {},
   "outputs": [
    {
     "data": {
      "text/plain": [
       "'GET'"
      ]
     },
     "execution_count": 4,
     "metadata": {},
     "output_type": "execute_result"
    }
   ],
   "source": [
    "r_page.request.method"
   ]
  },
  {
   "cell_type": "code",
   "execution_count": 5,
   "metadata": {},
   "outputs": [],
   "source": [
    "#r_page.content"
   ]
  },
  {
   "attachments": {},
   "cell_type": "markdown",
   "metadata": {},
   "source": [
    "## 2. Parse HTML with BeatifulSoup"
   ]
  },
  {
   "cell_type": "code",
   "execution_count": 6,
   "metadata": {},
   "outputs": [],
   "source": [
    "from bs4 import BeautifulSoup"
   ]
  },
  {
   "cell_type": "code",
   "execution_count": 7,
   "metadata": {},
   "outputs": [],
   "source": [
    "soup_page = BeautifulSoup(r_page.text, 'lxml')"
   ]
  },
  {
   "cell_type": "code",
   "execution_count": 8,
   "metadata": {},
   "outputs": [
    {
     "data": {
      "text/plain": [
       "bs4.BeautifulSoup"
      ]
     },
     "execution_count": 8,
     "metadata": {},
     "output_type": "execute_result"
    }
   ],
   "source": [
    "type(soup_page)"
   ]
  },
  {
   "cell_type": "code",
   "execution_count": 9,
   "metadata": {},
   "outputs": [],
   "source": [
    "#print(soup_page.prettify)"
   ]
  },
  {
   "attachments": {},
   "cell_type": "markdown",
   "metadata": {},
   "source": [
    "## 3. Extrat Information"
   ]
  },
  {
   "cell_type": "code",
   "execution_count": 13,
   "metadata": {},
   "outputs": [
    {
     "name": "stdout",
     "output_type": "stream",
     "text": [
      "18\n"
     ]
    }
   ],
   "source": [
    "#get all section\n",
    "section = soup_page.find_all('li', attrs={'class':'col-6 item-menu'})\n"
   ]
  },
  {
   "cell_type": "code",
   "execution_count": 14,
   "metadata": {},
   "outputs": [
    {
     "data": {
      "text/plain": [
       "<li class=\"col-6 item-menu\"> <a alt=\"Ultima Hora | Nacionales\" href=\"https://www.ultimahora.com/contenidos/nacional.html\" target=\"\" title=\"Ultima Hora | Nacionales\">\n",
       "                    Nacionales\n",
       "                </a></li>"
      ]
     },
     "execution_count": 14,
     "metadata": {},
     "output_type": "execute_result"
    }
   ],
   "source": [
    "title_1 = section[0]\n",
    "title_1"
   ]
  },
  {
   "cell_type": "code",
   "execution_count": 15,
   "metadata": {},
   "outputs": [
    {
     "name": "stdout",
     "output_type": "stream",
     "text": [
      "https://www.ultimahora.com/contenidos/nacional.html\n"
     ]
    }
   ],
   "source": [
    "#get link\n",
    "link = title_1.a.get('href')\n",
    "print (link)"
   ]
  },
  {
   "cell_type": "code",
   "execution_count": 16,
   "metadata": {},
   "outputs": [
    {
     "data": {
      "text/plain": [
       "['https://www.ultimahora.com/contenidos/nacional.html',\n",
       " 'https://www.ultimahora.com/contenidos/edicion_impresa.html',\n",
       " 'https://d10.ultimahora.com/',\n",
       " 'https://www.ultimahora.com/contenidos/brand-voice.html',\n",
       " 'https://www.ultimahora.com/contenidos/mundo.html',\n",
       " 'https://www.ultimahora.com/contenidos/Sociedad.html',\n",
       " 'https://www.ultimahora.com/contenidos/arte-y-espectaculos.html',\n",
       " 'https://www.ultimahora.com/contenidos/politica-privacidad.html',\n",
       " 'https://media.ultimahora.com/adjuntos/161/documentos/009/610/0009610703.pdf?0000-00-00-00-00-00',\n",
       " 'https://media.ultimahora.com/adjuntos/161/documentos/009/610/0009610721.pdf?0000-00-00-00-00-00',\n",
       " 'mailto:Publicidad_Digital@uhora.com.py',\n",
       " 'https://www.ultimahora.com/empresas-y-negocios-a28856.html',\n",
       " 'https://www.ultimahora.com/correo-semanal-a60.html',\n",
       " 'https://www.ultimahora.com/contenidos/colecciones_UH.html',\n",
       " 'https://www.ultimahora.com/contenidos/expo_rodados.html',\n",
       " 'https://www.ultimahora.com/contenidos/expouniversidades.html',\n",
       " 'https://www.ultimahora.com/contenidos/opiniones.html',\n",
       " 'https://www.ultimahora.com/contenidos/funebres.html']"
      ]
     },
     "execution_count": 16,
     "metadata": {},
     "output_type": "execute_result"
    }
   ],
   "source": [
    "# get all links\n",
    "links_section = [i.a.get('href') for i in section]\n",
    "links_section"
   ]
  },
  {
   "cell_type": "code",
   "execution_count": 17,
   "metadata": {},
   "outputs": [
    {
     "name": "stdout",
     "output_type": "stream",
     "text": [
      "Nacionales\n"
     ]
    }
   ],
   "source": [
    "#get title\n",
    "title_1_1=title_1.get_text()\n",
    "print(title_1_1.strip())"
   ]
  },
  {
   "cell_type": "code",
   "execution_count": 18,
   "metadata": {},
   "outputs": [
    {
     "data": {
      "text/plain": [
       "['Nacionales',\n",
       " 'Impreso',\n",
       " 'D10',\n",
       " 'Brand Voice',\n",
       " 'Mundo',\n",
       " 'Sociedad',\n",
       " 'Arte',\n",
       " 'Politicas de Privacidad',\n",
       " 'Bases y Condiciones - Servicio de Suscripción a Crédito',\n",
       " 'Bases y Condiciones - Servicio de Publicación e Impresión',\n",
       " 'Anuncie con nosotros',\n",
       " 'Empresariales',\n",
       " 'Correo Semanal',\n",
       " 'Colecciones ÚH',\n",
       " 'Expo Rodados',\n",
       " 'Expo Universidades',\n",
       " 'Opinion',\n",
       " 'Fúnebres']"
      ]
     },
     "execution_count": 18,
     "metadata": {},
     "output_type": "execute_result"
    }
   ],
   "source": [
    "# metodo strip para eliminar espacios en blanco\n",
    "titles_section=[i.get_text().strip() for i in section]\n",
    "titles_section"
   ]
  },
  {
   "cell_type": "code",
   "execution_count": 40,
   "metadata": {},
   "outputs": [
    {
     "data": {
      "text/plain": [
       "200"
      ]
     },
     "execution_count": 40,
     "metadata": {},
     "output_type": "execute_result"
    }
   ],
   "source": [
    "# now, try if 1 web is working\n",
    "valid_link_1 = requests.get(links_section[0])\n",
    "valid_link_1.status_code"
   ]
  },
  {
   "cell_type": "code",
   "execution_count": 41,
   "metadata": {},
   "outputs": [],
   "source": [
    "#get XPATH\n",
    "from lxml import etree\n",
    "soup_link_1=BeautifulSoup(valid_link_1.text, 'lxml')\n",
    "xp_link_1= etree.HTML(str(soup_link_1))"
   ]
  },
  {
   "cell_type": "code",
   "execution_count": 52,
   "metadata": {},
   "outputs": [
    {
     "data": {
      "text/plain": [
       "'Accidentes dejan tres motociclistas muertos durante esta Navidad'"
      ]
     },
     "execution_count": 52,
     "metadata": {},
     "output_type": "execute_result"
    }
   ],
   "source": [
    "xp_link_1.xpath(\"//div[@class='col-12 col-lg-8']//*[@class='article-title']//a\")[0].text"
   ]
  },
  {
   "cell_type": "code",
   "execution_count": 53,
   "metadata": {},
   "outputs": [
    {
     "data": {
      "text/plain": [
       "'https://www.ultimahora.com/accidentes-dejan-tres-motociclistas-muertos-esta-navidad-n3040449.html'"
      ]
     },
     "execution_count": 53,
     "metadata": {},
     "output_type": "execute_result"
    }
   ],
   "source": [
    "xp_link_1.xpath(\"//div[@class='col-12 col-lg-8']//*[@class='article-title']//a\")[0].get('href')"
   ]
  }
 ],
 "metadata": {
  "kernelspec": {
   "display_name": "venv",
   "language": "python",
   "name": "python3"
  },
  "language_info": {
   "codemirror_mode": {
    "name": "ipython",
    "version": 3
   },
   "file_extension": ".py",
   "mimetype": "text/x-python",
   "name": "python",
   "nbconvert_exporter": "python",
   "pygments_lexer": "ipython3",
   "version": "3.10.4"
  },
  "orig_nbformat": 4,
  "vscode": {
   "interpreter": {
    "hash": "97e6cad3ecb9bcade12322525e6936341a6cce36f71e8d97aba20d12930216bb"
   }
  }
 },
 "nbformat": 4,
 "nbformat_minor": 2
}
